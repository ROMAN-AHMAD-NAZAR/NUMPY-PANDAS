{
 "cells": [
  {
   "metadata": {},
   "cell_type": "markdown",
   "source": "## Numpy Basics To Advance",
   "id": "8b2260663d89f343"
  },
  {
   "metadata": {
    "ExecuteTime": {
     "end_time": "2025-03-22T15:55:08.005987Z",
     "start_time": "2025-03-22T15:55:07.709677Z"
    }
   },
   "cell_type": "code",
   "source": "import numpy as np",
   "id": "95eba9afde8c040e",
   "outputs": [],
   "execution_count": 3
  },
  {
   "metadata": {},
   "cell_type": "markdown",
   "source": "Create a 1D NumPy array containing the integers from 0 to 9.",
   "id": "27874abe9a9c3c82"
  },
  {
   "metadata": {
    "ExecuteTime": {
     "end_time": "2025-03-22T15:55:09.269237Z",
     "start_time": "2025-03-22T15:55:09.256625Z"
    }
   },
   "cell_type": "code",
   "source": [
    " array_1d = np.arange(10)\n",
    "print(\"1D Array:\", array_1d)"
   ],
   "id": "85c00cdcb924ad47",
   "outputs": [
    {
     "name": "stdout",
     "output_type": "stream",
     "text": [
      "1D Array: [0 1 2 3 4 5 6 7 8 9]\n"
     ]
    }
   ],
   "execution_count": 4
  },
  {
   "metadata": {},
   "cell_type": "markdown",
   "source": "Create a 2D NumPy array (3x3) containing random integers between 1 and 20.",
   "id": "79b67bea2981e96e"
  },
  {
   "metadata": {
    "ExecuteTime": {
     "end_time": "2025-03-22T15:55:23.471239Z",
     "start_time": "2025-03-22T15:55:23.402321Z"
    }
   },
   "cell_type": "code",
   "source": [
    "array_2d = np.random.randint(1, 21, (3, 3))\n",
    "print(\"2D Array:\", array_2d)"
   ],
   "id": "2a12fa3ef15820f9",
   "outputs": [
    {
     "name": "stdout",
     "output_type": "stream",
     "text": [
      "2D Array: [[13 18 10]\n",
      " [12 13  2]\n",
      " [13  6 12]]\n"
     ]
    }
   ],
   "execution_count": 5
  },
  {
   "metadata": {},
   "cell_type": "markdown",
   "source": "Create a 3D NumPy array with dimensions (2, 3, 4) filled with ones.",
   "id": "59d1444465a76e5f"
  },
  {
   "metadata": {
    "ExecuteTime": {
     "end_time": "2025-03-22T15:55:37.596863Z",
     "start_time": "2025-03-22T15:55:37.585463Z"
    }
   },
   "cell_type": "code",
   "source": [
    "array_3d = np.ones((2, 3, 4))\n",
    "print(\"3D Array:\", array_3d)"
   ],
   "id": "15e709384dafaa3e",
   "outputs": [
    {
     "name": "stdout",
     "output_type": "stream",
     "text": [
      "3D Array: [[[1. 1. 1. 1.]\n",
      "  [1. 1. 1. 1.]\n",
      "  [1. 1. 1. 1.]]\n",
      "\n",
      " [[1. 1. 1. 1.]\n",
      "  [1. 1. 1. 1.]\n",
      "  [1. 1. 1. 1.]]]\n"
     ]
    }
   ],
   "execution_count": 6
  },
  {
   "metadata": {},
   "cell_type": "markdown",
   "source": "Add two 1D arrays element-wise.",
   "id": "5f2fb06fb5c55d87"
  },
  {
   "metadata": {
    "ExecuteTime": {
     "end_time": "2025-03-22T15:55:55.723795Z",
     "start_time": "2025-03-22T15:55:55.715511Z"
    }
   },
   "cell_type": "code",
   "source": [
    "array_a = np.array([1, 2, 3, 4, 5])\n",
    "array_b = np.array([10, 20, 30, 40, 50])\n",
    "sum_arrays = array_a + array_b\n",
    "print(\"Sum of Arrays:\", sum_arrays)"
   ],
   "id": "d94faefbbc2a2a59",
   "outputs": [
    {
     "name": "stdout",
     "output_type": "stream",
     "text": [
      "Sum of Arrays: [11 22 33 44 55]\n"
     ]
    }
   ],
   "execution_count": 7
  },
  {
   "metadata": {},
   "cell_type": "markdown",
   "source": "Multiply two 2D arrays element-wise.",
   "id": "47aabae9d238884"
  },
  {
   "metadata": {
    "ExecuteTime": {
     "end_time": "2025-03-22T15:56:10.611074Z",
     "start_time": "2025-03-22T15:56:10.593519Z"
    }
   },
   "cell_type": "code",
   "source": [
    "array_x = np.random.randint(1, 10, (3, 3))\n",
    "array_y = np.random.randint(1, 10, (3, 3))\n",
    "product_arrays = array_x * array_y\n",
    "print(\"Product of 2D Arrays:\", product_arrays)"
   ],
   "id": "559e195a9deb78c3",
   "outputs": [
    {
     "name": "stdout",
     "output_type": "stream",
     "text": [
      "Product of 2D Arrays: [[25 20 24]\n",
      " [36  8 56]\n",
      " [49 72 25]]\n"
     ]
    }
   ],
   "execution_count": 8
  },
  {
   "metadata": {},
   "cell_type": "markdown",
   "source": "Calculate the dot product of two matrices.",
   "id": "488ac5632e46203c"
  },
  {
   "metadata": {
    "ExecuteTime": {
     "end_time": "2025-03-22T15:56:37.525471Z",
     "start_time": "2025-03-22T15:56:37.504760Z"
    }
   },
   "cell_type": "code",
   "source": [
    "dot_product = np.dot(array_x, array_y)\n",
    "print(\"Dot Product:\", dot_product)"
   ],
   "id": "a47e40e7dc92698c",
   "outputs": [
    {
     "name": "stdout",
     "output_type": "stream",
     "text": [
      "Dot Product: [[117  93  83]\n",
      " [148  92 108]\n",
      " [151  84 109]]\n"
     ]
    }
   ],
   "execution_count": 9
  },
  {
   "metadata": {},
   "cell_type": "markdown",
   "source": "Calculate the mean, median, and standard deviation of a 1D array.",
   "id": "21f004c02f98e3d7"
  },
  {
   "metadata": {
    "ExecuteTime": {
     "end_time": "2025-03-22T15:56:53.562780Z",
     "start_time": "2025-03-22T15:56:53.549193Z"
    }
   },
   "cell_type": "code",
   "source": [
    "mean_value = np.mean(array_1d)\n",
    "median_value = np.median(array_1d)\n",
    "std_dev_value = np.std(array_1d)\n",
    "print(\"Mean:\", mean_value, \"Median:\", median_value, \"Std Dev:\", std_dev_value)"
   ],
   "id": "349935c6e5b879a0",
   "outputs": [
    {
     "name": "stdout",
     "output_type": "stream",
     "text": [
      "Mean: 4.5 Median: 4.5 Std Dev: 2.8722813232690143\n"
     ]
    }
   ],
   "execution_count": 10
  },
  {
   "metadata": {},
   "cell_type": "markdown",
   "source": [
    "Generate an array of 1000 random numbers from a normal distribution with a mean of 0\n",
    "and a standard deviation of 1."
   ],
   "id": "8423751f9161e3e"
  },
  {
   "metadata": {
    "ExecuteTime": {
     "end_time": "2025-03-22T15:59:28.406297Z",
     "start_time": "2025-03-22T15:59:28.396474Z"
    }
   },
   "cell_type": "code",
   "source": [
    "normal_distribution = np.random.normal(0, 1, 1000)\n",
    "print(\"First 10 Normal Dist Values:\", normal_distribution[:10])"
   ],
   "id": "f14937f3d9502f6f",
   "outputs": [
    {
     "name": "stdout",
     "output_type": "stream",
     "text": [
      "First 10 Normal Dist Values: [-1.35109774  0.03704368  1.61895024 -1.43191227 -0.1592665   0.85914358\n",
      " -1.06888406  1.84620172 -2.1429315  -0.38451585]\n"
     ]
    }
   ],
   "execution_count": 12
  },
  {
   "metadata": {},
   "cell_type": "markdown",
   "source": " Find the maximum and minimum values in a 2D array.",
   "id": "703a3678b0e9bd13"
  },
  {
   "metadata": {
    "ExecuteTime": {
     "end_time": "2025-03-22T15:57:28.171599Z",
     "start_time": "2025-03-22T15:57:28.146771Z"
    }
   },
   "cell_type": "code",
   "source": [
    "max_value = np.max(array_2d)\n",
    "min_value = np.min(array_2d)\n",
    "print(\"Max:\", max_value, \"Min:\", min_value)"
   ],
   "id": "5e775d6933aa29c9",
   "outputs": [
    {
     "name": "stdout",
     "output_type": "stream",
     "text": [
      "Max: 18 Min: 2\n"
     ]
    }
   ],
   "execution_count": 11
  },
  {
   "metadata": {},
   "cell_type": "markdown",
   "source": [
    "Create a 2D array of shapes (5, 5) with random integers from a uniform distribution\n",
    "between 10 and 50."
   ],
   "id": "36ec9db2a3d9739"
  },
  {
   "metadata": {
    "ExecuteTime": {
     "end_time": "2025-03-22T16:02:06.685987Z",
     "start_time": "2025-03-22T16:02:06.672489Z"
    }
   },
   "cell_type": "code",
   "source": [
    "uniform_array = np.random.randint(10, 51, (5, 5))\n",
    "print(\"Uniform Array:\", uniform_array)"
   ],
   "id": "fda1f39f2b7a0c20",
   "outputs": [
    {
     "name": "stdout",
     "output_type": "stream",
     "text": [
      "Uniform Array: [[16 29 47 40 50]\n",
      " [14 27 23 14 25]\n",
      " [31 40 26 43 45]\n",
      " [40 46 30 47 48]\n",
      " [33 24 39 24 17]]\n"
     ]
    }
   ],
   "execution_count": 13
  },
  {
   "metadata": {},
   "cell_type": "markdown",
   "source": "Calculate the cumulative sum of a 1D array.",
   "id": "d4ae555c05f93004"
  },
  {
   "metadata": {
    "ExecuteTime": {
     "end_time": "2025-03-22T16:02:20.417114Z",
     "start_time": "2025-03-22T16:02:20.405851Z"
    }
   },
   "cell_type": "code",
   "source": [
    "cumulative_sum = np.cumsum(array_1d)\n",
    "print(\"Cumulative Sum:\", cumulative_sum)"
   ],
   "id": "5d5d9a7f5d38c237",
   "outputs": [
    {
     "name": "stdout",
     "output_type": "stream",
     "text": [
      "Cumulative Sum: [ 0  1  3  6 10 15 21 28 36 45]\n"
     ]
    }
   ],
   "execution_count": 14
  },
  {
   "metadata": {},
   "cell_type": "markdown",
   "source": " Compute the correlation coefficient matrix of a 2D array.",
   "id": "e86dcc281ebe2e09"
  },
  {
   "metadata": {
    "ExecuteTime": {
     "end_time": "2025-03-22T16:02:32.676120Z",
     "start_time": "2025-03-22T16:02:32.627745Z"
    }
   },
   "cell_type": "code",
   "source": [
    "correlation_matrix = np.corrcoef(array_2d)\n",
    "print(\"Correlation Matrix:\\n\", correlation_matrix)"
   ],
   "id": "6e4dbc81dcebc054",
   "outputs": [
    {
     "name": "stdout",
     "output_type": "stream",
     "text": [
      "Correlation Matrix:\n",
      " [[ 1.         0.8339031 -0.8714204]\n",
      " [ 0.8339031  1.        -0.4559475]\n",
      " [-0.8714204 -0.4559475  1.       ]]\n"
     ]
    }
   ],
   "execution_count": 15
  },
  {
   "metadata": {},
   "cell_type": "markdown",
   "source": " Simulate rolling a six-sided die 1000 times and count the frequency of each outcome.",
   "id": "334056d6d01d6f12"
  },
  {
   "metadata": {
    "ExecuteTime": {
     "end_time": "2025-03-22T16:02:52.615843Z",
     "start_time": "2025-03-22T16:02:52.603944Z"
    }
   },
   "cell_type": "code",
   "source": [
    "die_rolls = np.random.randint(1, 7, 1000)\n",
    "unique, counts = np.unique(die_rolls, return_counts=True)\n",
    "die_frequencies = dict(zip(unique, counts))\n",
    "print(\"Die Roll Frequencies:\", die_frequencies)"
   ],
   "id": "dd06c355be88a61a",
   "outputs": [
    {
     "name": "stdout",
     "output_type": "stream",
     "text": [
      "Die Roll Frequencies: {np.int32(1): np.int64(158), np.int32(2): np.int64(157), np.int32(3): np.int64(175), np.int32(4): np.int64(160), np.int32(5): np.int64(172), np.int32(6): np.int64(178)}\n"
     ]
    }
   ],
   "execution_count": 16
  },
  {
   "metadata": {},
   "cell_type": "markdown",
   "source": "",
   "id": "eb04b632d686c169"
  },
  {
   "metadata": {},
   "cell_type": "markdown",
   "source": "Extract a 3x3 sub-array starting from position (1,1) in a (5,5) array",
   "id": "2d5dcdf8422ad515"
  },
  {
   "metadata": {
    "ExecuteTime": {
     "end_time": "2025-03-22T16:05:24.244721Z",
     "start_time": "2025-03-22T16:05:24.234272Z"
    }
   },
   "cell_type": "code",
   "source": [
    "array_5x5 = np.random.randint(1, 21, (5, 5))\n",
    "sub_array_3x3 = array_5x5[1:4, 1:4]\n",
    "print(array_5x5)\n",
    "print(\"\\n\\n\",sub_array_3x3)"
   ],
   "id": "425fb3e9e814ae8e",
   "outputs": [
    {
     "name": "stdout",
     "output_type": "stream",
     "text": [
      "[[ 1 17  6 20 20]\n",
      " [ 3  3  3 14 15]\n",
      " [ 6 18  2  5  4]\n",
      " [19 18  5  3  3]\n",
      " [ 2 16 12 13 16]]\n",
      "\n",
      "\n",
      " [[ 3  3 14]\n",
      " [18  2  5]\n",
      " [18  5  3]]\n"
     ]
    }
   ],
   "execution_count": 21
  },
  {
   "metadata": {},
   "cell_type": "markdown",
   "source": "Extract first two rows and all columns of the second slice along axis 2 in a (4,3,2) array",
   "id": "a5212bb4142d0091"
  },
  {
   "metadata": {
    "ExecuteTime": {
     "end_time": "2025-03-22T16:17:52.251986Z",
     "start_time": "2025-03-22T16:17:52.243780Z"
    }
   },
   "cell_type": "code",
   "source": [
    "array_4x3x2 = np.random.randint(1, 21, (4, 3, 2))\n",
    "sub_array_2x3 = array_4x3x2[:2, :, 1]\n",
    "print(\"Extracted sub-array:\", sub_array_2x3)"
   ],
   "id": "4c23cedfa210f11",
   "outputs": [
    {
     "name": "stdout",
     "output_type": "stream",
     "text": [
      "Extracted sub-array: [[18 20 15]\n",
      " [ 7  8 14]]\n"
     ]
    }
   ],
   "execution_count": 26
  },
  {
   "metadata": {},
   "cell_type": "markdown",
   "source": " Fancy indexing to extract elements at positions [1, 3, 4, 7]",
   "id": "64a989e4a501d328"
  },
  {
   "metadata": {
    "ExecuteTime": {
     "end_time": "2025-03-22T16:20:18.566218Z",
     "start_time": "2025-03-22T16:20:18.551286Z"
    }
   },
   "cell_type": "code",
   "source": [
    "array_1d = np.arange(10)\n",
    "fancy_extracted = array_1d[[1, 3, 4, 7]]\n",
    "print(\"Fancy indexed elements:\", fancy_extracted)"
   ],
   "id": "d5d2d299190c983f",
   "outputs": [
    {
     "name": "stdout",
     "output_type": "stream",
     "text": [
      "Fancy indexed elements: [1 3 4 7]\n"
     ]
    }
   ],
   "execution_count": 27
  },
  {
   "metadata": {},
   "cell_type": "markdown",
   "source": "Fancy indexing to select rows [0, 2, 3] and columns [1, 3]",
   "id": "48527f64f537ea74"
  },
  {
   "metadata": {
    "ExecuteTime": {
     "end_time": "2025-03-22T16:20:31.300878Z",
     "start_time": "2025-03-22T16:20:31.287858Z"
    }
   },
   "cell_type": "code",
   "source": [
    "array_2d = np.random.randint(1, 21, (5, 5))\n",
    "fancy_rows_cols = array_2d[[0, 2, 3], :][:, [1, 3]]\n",
    "print(\"Selected rows and columns:\", fancy_rows_cols)"
   ],
   "id": "e7072d1f39816599",
   "outputs": [
    {
     "name": "stdout",
     "output_type": "stream",
     "text": [
      "Selected rows and columns: [[18 10]\n",
      " [18 16]\n",
      " [12 12]]\n"
     ]
    }
   ],
   "execution_count": 28
  },
  {
   "metadata": {},
   "cell_type": "markdown",
   "source": " Extract all elements greater than 10 from a 1D array",
   "id": "3619b5efc4ee578e"
  },
  {
   "metadata": {
    "ExecuteTime": {
     "end_time": "2025-03-22T16:22:01.172425Z",
     "start_time": "2025-03-22T16:22:01.155196Z"
    }
   },
   "cell_type": "code",
   "source": [
    "filtered_array = array_1d[array_1d > 10]\n",
    "print(\"Elements > 10:\", filtered_array)\n"
   ],
   "id": "dc76d9fcb12834f7",
   "outputs": [
    {
     "name": "stdout",
     "output_type": "stream",
     "text": [
      "Elements > 10: []\n"
     ]
    }
   ],
   "execution_count": 32
  },
  {
   "metadata": {},
   "cell_type": "markdown",
   "source": " Replace all elements greater than 15 with 0 in a (5,5) array",
   "id": "bc5f606def7c38ea"
  },
  {
   "metadata": {
    "ExecuteTime": {
     "end_time": "2025-03-22T16:21:04.500484Z",
     "start_time": "2025-03-22T16:21:04.489031Z"
    }
   },
   "cell_type": "code",
   "source": [
    "array_5x5[array_5x5 > 15] = 0\n",
    "print(\"Modified array:\", array_5x5)"
   ],
   "id": "4e88cac794cc4cca",
   "outputs": [
    {
     "name": "stdout",
     "output_type": "stream",
     "text": [
      "Modified array: [[ 1  0  6  0  0]\n",
      " [ 3  3  3 14  6]\n",
      " [ 6  0  2  5  0]\n",
      " [ 0  0  5  3  0]\n",
      " [ 2  0 12 13  0]]\n"
     ]
    }
   ],
   "execution_count": 30
  },
  {
   "metadata": {},
   "cell_type": "markdown",
   "source": "Add a (3,) array to each row of a (4,3) array",
   "id": "9f1d7071cfdd6db3"
  },
  {
   "metadata": {
    "ExecuteTime": {
     "end_time": "2025-03-22T16:22:16.642373Z",
     "start_time": "2025-03-22T16:22:16.631958Z"
    }
   },
   "cell_type": "code",
   "source": [
    "array_4x3 = np.random.randint(1, 10, (4, 3))\n",
    "array_1d_3 = np.array([1, 2, 3])\n",
    "broadcast_sum = array_4x3 + array_1d_3\n",
    "print(\"Broadcast sum:\", broadcast_sum)"
   ],
   "id": "243d985d952ae5b6",
   "outputs": [
    {
     "name": "stdout",
     "output_type": "stream",
     "text": [
      "Broadcast sum: [[10  6 11]\n",
      " [10 10  4]\n",
      " [ 4  7 11]\n",
      " [ 4  4 12]]\n"
     ]
    }
   ],
   "execution_count": 33
  },
  {
   "metadata": {},
   "cell_type": "markdown",
   "source": " Multiply a (3,3) array by a (3,) array",
   "id": "ec1734dae8396c64"
  },
  {
   "metadata": {
    "ExecuteTime": {
     "end_time": "2025-03-22T16:22:26.138158Z",
     "start_time": "2025-03-22T16:22:26.128010Z"
    }
   },
   "cell_type": "code",
   "source": [
    "array_3x3 = np.random.randint(1, 10, (3, 3))\n",
    "broadcast_product = array_3x3 * array_1d_3\n",
    "print(\"Broadcast product:\", broadcast_product)"
   ],
   "id": "4522edd020a5598d",
   "outputs": [
    {
     "name": "stdout",
     "output_type": "stream",
     "text": [
      "Broadcast product: [[ 2 12  3]\n",
      " [ 1  6 15]\n",
      " [ 9 10  3]]\n"
     ]
    }
   ],
   "execution_count": 34
  },
  {
   "metadata": {},
   "cell_type": "markdown",
   "source": "Perform element-wise addition of (3,1) and (1,4) arrays",
   "id": "efb10f40cbb64d5"
  },
  {
   "metadata": {
    "ExecuteTime": {
     "end_time": "2025-03-22T16:22:53.878089Z",
     "start_time": "2025-03-22T16:22:53.869203Z"
    }
   },
   "cell_type": "code",
   "source": [
    "array_3x1 = np.random.randint(1, 10, (3, 1))\n",
    "array_1x4 = np.random.randint(1, 10, (1, 4))\n",
    "broadcast_addition = array_3x1 + array_1x4\n",
    "print(\"Broadcast addition:\", broadcast_addition)"
   ],
   "id": "79e4eb495ad2cbe8",
   "outputs": [
    {
     "name": "stdout",
     "output_type": "stream",
     "text": [
      "Broadcast addition: [[ 9 11 10  8]\n",
      " [ 8 10  9  7]\n",
      " [11 13 12 10]]\n"
     ]
    }
   ],
   "execution_count": 35
  },
  {
   "metadata": {},
   "cell_type": "markdown",
   "source": "Add a (3,4) array to each 2D slice along the first axis of a (2,3,4) array",
   "id": "e622ad1a748b39f6"
  },
  {
   "metadata": {
    "ExecuteTime": {
     "end_time": "2025-03-22T16:23:05.264084Z",
     "start_time": "2025-03-22T16:23:05.253915Z"
    }
   },
   "cell_type": "code",
   "source": [
    "array_2x3x4 = np.random.randint(1, 10, (2, 3, 4))\n",
    "array_3x4 = np.random.randint(1, 10, (3, 4))\n",
    "broadcast_3D_addition = array_2x3x4 + array_3x4\n",
    "print(\"Broadcast 3D addition:\", broadcast_3D_addition)"
   ],
   "id": "5c7259c7ad9b0571",
   "outputs": [
    {
     "name": "stdout",
     "output_type": "stream",
     "text": [
      "Broadcast 3D addition: [[[17  4 13 18]\n",
      "  [ 9  9  7  8]\n",
      "  [11  9 12  6]]\n",
      "\n",
      " [[17  4  9 16]\n",
      "  [ 7 17  9  9]\n",
      "  [10  7 16 11]]]\n"
     ]
    }
   ],
   "execution_count": 36
  },
  {
   "metadata": {},
   "cell_type": "markdown",
   "source": " Extract every second row and column, then add a 1D array to each row",
   "id": "a3814623818c14c3"
  },
  {
   "metadata": {
    "ExecuteTime": {
     "end_time": "2025-03-22T16:23:24.888979Z",
     "start_time": "2025-03-22T16:23:24.881174Z"
    }
   },
   "cell_type": "code",
   "source": [
    "sliced_2d = array_2d[::2, ::2]\n",
    "sliced_2d_broadcast = sliced_2d + array_1d_3[:sliced_2d.shape[1]]\n",
    "print(\"Sliced and broadcasted array:\", sliced_2d_broadcast)\n"
   ],
   "id": "23d151672230829e",
   "outputs": [
    {
     "name": "stdout",
     "output_type": "stream",
     "text": [
      "Sliced and broadcasted array: [[ 4 21 18]\n",
      " [ 2  7 14]\n",
      " [17  8  6]]\n"
     ]
    }
   ],
   "execution_count": 37
  },
  {
   "metadata": {},
   "cell_type": "markdown",
   "source": "Extract sub-array from (4,3,2) and subtract a (3,2) array using broadcasting",
   "id": "bd1b2da095abfb0d"
  },
  {
   "metadata": {
    "ExecuteTime": {
     "end_time": "2025-03-22T16:23:37.897703Z",
     "start_time": "2025-03-22T16:23:37.881070Z"
    }
   },
   "cell_type": "code",
   "source": [
    "sub_3D = array_4x3x2[:2, :, :]\n",
    "array_3x2 = np.random.randint(1, 10, (3, 2))\n",
    "broadcast_subtraction = sub_3D - array_3x2\n",
    "print(\"Broadcast subtraction:\", broadcast_subtraction)"
   ],
   "id": "822dcb454b6bb9fd",
   "outputs": [
    {
     "name": "stdout",
     "output_type": "stream",
     "text": [
      "Broadcast subtraction: [[[ 7 10]\n",
      "  [13 19]\n",
      "  [ 8  7]]\n",
      "\n",
      " [[ 3 -1]\n",
      "  [-4  7]\n",
      "  [ 1  6]]]\n"
     ]
    }
   ],
   "execution_count": 38
  },
  {
   "metadata": {},
   "cell_type": "markdown",
   "source": "Extract diagonal elements of a 2D array",
   "id": "d37c52440db8c72e"
  },
  {
   "metadata": {
    "ExecuteTime": {
     "end_time": "2025-03-22T16:23:52.648548Z",
     "start_time": "2025-03-22T16:23:52.640670Z"
    }
   },
   "cell_type": "code",
   "source": [
    "array_diag = np.diag(array_2d)\n",
    "print(\"Diagonal elements:\", array_diag)\n"
   ],
   "id": "159ba2a5a24a3c98",
   "outputs": [
    {
     "name": "stdout",
     "output_type": "stream",
     "text": [
      "Diagonal elements: [ 3 14  5 12  3]\n"
     ]
    }
   ],
   "execution_count": 39
  },
  {
   "metadata": {},
   "cell_type": "markdown",
   "source": " Reverse order of elements in each row of a 2D array",
   "id": "70179787223472d7"
  },
  {
   "metadata": {
    "ExecuteTime": {
     "end_time": "2025-03-22T16:24:03.984616Z",
     "start_time": "2025-03-22T16:24:03.974961Z"
    }
   },
   "cell_type": "code",
   "source": [
    "reversed_rows = array_2d[:, ::-1]\n",
    "print(\"Reversed rows:\", reversed_rows)"
   ],
   "id": "86e31ab8a8b90c9c",
   "outputs": [
    {
     "name": "stdout",
     "output_type": "stream",
     "text": [
      "Reversed rows: [[15 10 19 18  3]\n",
      " [15 18 20 14 10]\n",
      " [11 16  5 18  1]\n",
      " [19 12  9 12  2]\n",
      " [ 3 20  6  8 16]]\n"
     ]
    }
   ],
   "execution_count": 40
  },
  {
   "metadata": {},
   "cell_type": "markdown",
   "source": "Extract (2,3,4) sub-array from (4,5,6) and add (4,) array to each row along axis 2",
   "id": "cd6443e16a32be8d"
  },
  {
   "metadata": {
    "ExecuteTime": {
     "end_time": "2025-03-22T16:24:15.370067Z",
     "start_time": "2025-03-22T16:24:15.354038Z"
    }
   },
   "cell_type": "code",
   "source": [
    "array_4x5x6 = np.random.randint(1, 10, (4, 5, 6))\n",
    "sub_2x3x4 = array_4x5x6[:2, :3, :4]\n",
    "array_4 = np.random.randint(1, 10, (4,))\n",
    "broadcast_3D_addition_2 = sub_2x3x4 + array_4[np.newaxis, np.newaxis, :]\n",
    "print(\"Broadcast 3D addition 2:\", broadcast_3D_addition_2)"
   ],
   "id": "99791be4bde63416",
   "outputs": [
    {
     "name": "stdout",
     "output_type": "stream",
     "text": [
      "Broadcast 3D addition 2: [[[ 4 16  9 16]\n",
      "  [10 13  6 13]\n",
      "  [ 4 10 11 11]]\n",
      "\n",
      " [[ 5 15 11 10]\n",
      "  [ 7  9 12 16]\n",
      "  [ 9 11  6 15]]]\n"
     ]
    }
   ],
   "execution_count": 41
  },
  {
   "metadata": {},
   "cell_type": "markdown",
   "source": "Set last column of a (5,5) array to sum of first two columns",
   "id": "7551d617735113a7"
  },
  {
   "metadata": {
    "ExecuteTime": {
     "end_time": "2025-03-22T16:24:27.027185Z",
     "start_time": "2025-03-22T16:24:27.009847Z"
    }
   },
   "cell_type": "code",
   "source": [
    "array_5x5[:, -1] = array_5x5[:, 0] + array_5x5[:, 1]\n",
    "print(\"Updated array with column sum:\", array_5x5)"
   ],
   "id": "bfc7c6a97408edc",
   "outputs": [
    {
     "name": "stdout",
     "output_type": "stream",
     "text": [
      "Updated array with column sum: [[ 1  0  6  0  1]\n",
      " [ 3  3  3 14  6]\n",
      " [ 6  0  2  5  6]\n",
      " [ 0  0  5  3  0]\n",
      " [ 2  0 12 13  2]]\n"
     ]
    }
   ],
   "execution_count": 42
  }
 ],
 "metadata": {
  "kernelspec": {
   "display_name": "Python 3",
   "language": "python",
   "name": "python3"
  },
  "language_info": {
   "codemirror_mode": {
    "name": "ipython",
    "version": 2
   },
   "file_extension": ".py",
   "mimetype": "text/x-python",
   "name": "python",
   "nbconvert_exporter": "python",
   "pygments_lexer": "ipython2",
   "version": "2.7.6"
  }
 },
 "nbformat": 4,
 "nbformat_minor": 5
}
