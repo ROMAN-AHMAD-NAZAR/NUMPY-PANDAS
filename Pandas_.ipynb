{
 "cells": [
  {
   "metadata": {},
   "cell_type": "markdown",
   "source": "Create a Pandas Series from a Python list, NumPy array, and dictionary",
   "id": "8e82bb877ad460a7"
  },
  {
   "metadata": {
    "collapsed": true,
    "ExecuteTime": {
     "end_time": "2025-03-22T18:52:49.418238Z",
     "start_time": "2025-03-22T18:52:48.177693Z"
    }
   },
   "cell_type": "code",
   "source": [
    "import pandas as pd\n",
    "import numpy as np\n",
    "\n",
    "# Create Series from different data types\n",
    "list_series = pd.Series([10, 20, 30, 40])\n",
    "numpy_series = pd.Series(np.array([1, 2, 3, 4]))\n",
    "dict_series = pd.Series({'a': 100, 'b': 200, 'c': 300})\n",
    "\n",
    "print(\"Series from List:\\n\", list_series)\n",
    "print(\"\\nSeries from NumPy Array:\\n\", numpy_series)\n",
    "print(\"\\nSeries from Dictionary:\\n\", dict_series)\n"
   ],
   "id": "initial_id",
   "outputs": [
    {
     "name": "stdout",
     "output_type": "stream",
     "text": [
      "Series from List:\n",
      " 0    10\n",
      "1    20\n",
      "2    30\n",
      "3    40\n",
      "dtype: int64\n",
      "\n",
      "Series from NumPy Array:\n",
      " 0    1\n",
      "1    2\n",
      "2    3\n",
      "3    4\n",
      "dtype: int64\n",
      "\n",
      "Series from Dictionary:\n",
      " a    100\n",
      "b    200\n",
      "c    300\n",
      "dtype: int64\n"
     ]
    }
   ],
   "execution_count": 1
  },
  {
   "metadata": {},
   "cell_type": "markdown",
   "source": "Assign a custom index to the Series",
   "id": "ea59fa612ed2da56"
  },
  {
   "metadata": {
    "ExecuteTime": {
     "end_time": "2025-03-22T18:53:08.014091Z",
     "start_time": "2025-03-22T18:53:08.005009Z"
    }
   },
   "cell_type": "code",
   "source": [
    "custom_index_series = pd.Series([5, 10, 15, 20], index=['A', 'B', 'C', 'D'])\n",
    "print(\"\\nSeries with Custom Index:\\n\", custom_index_series)\n"
   ],
   "id": "773e24b27fe54f5",
   "outputs": [
    {
     "name": "stdout",
     "output_type": "stream",
     "text": [
      "\n",
      "Series with Custom Index:\n",
      " A     5\n",
      "B    10\n",
      "C    15\n",
      "D    20\n",
      "dtype: int64\n"
     ]
    }
   ],
   "execution_count": 2
  },
  {
   "metadata": {},
   "cell_type": "markdown",
   "source": " Perform basic arithmetic operations on Series",
   "id": "d576a34c29833354"
  },
  {
   "metadata": {
    "ExecuteTime": {
     "end_time": "2025-03-22T18:53:29.570065Z",
     "start_time": "2025-03-22T18:53:29.560047Z"
    }
   },
   "cell_type": "code",
   "source": [
    "series_a = pd.Series([1, 2, 3, 4])\n",
    "series_b = pd.Series([10, 20, 30, 40])\n",
    "\n",
    "sum_series = series_a + series_b\n",
    "prod_series = series_a * series_b\n",
    "\n",
    "print(\"\\nSum of Series:\\n\", sum_series)\n",
    "print(\"\\nProduct of Series:\\n\", prod_series)\n"
   ],
   "id": "f9c47828e5af741e",
   "outputs": [
    {
     "name": "stdout",
     "output_type": "stream",
     "text": [
      "\n",
      "Sum of Series:\n",
      " 0    11\n",
      "1    22\n",
      "2    33\n",
      "3    44\n",
      "dtype: int64\n",
      "\n",
      "Product of Series:\n",
      " 0     10\n",
      "1     40\n",
      "2     90\n",
      "3    160\n",
      "dtype: int64\n"
     ]
    }
   ],
   "execution_count": 3
  },
  {
   "metadata": {},
   "cell_type": "markdown",
   "source": "Access elements using index labels and positions",
   "id": "18f6d476089d295a"
  },
  {
   "metadata": {
    "ExecuteTime": {
     "end_time": "2025-03-22T18:53:58.334959Z",
     "start_time": "2025-03-22T18:53:58.326285Z"
    }
   },
   "cell_type": "code",
   "source": [
    "print(\"\\nElement at index 'B':\", custom_index_series['B'])\n",
    "print(\"\\nElement at position 2:\", custom_index_series.iloc[2])\n"
   ],
   "id": "d0e7c079e7c6e735",
   "outputs": [
    {
     "name": "stdout",
     "output_type": "stream",
     "text": [
      "\n",
      "Element at index 'B': 10\n",
      "\n",
      "Element at position 2: 15\n"
     ]
    }
   ],
   "execution_count": 4
  },
  {
   "metadata": {},
   "cell_type": "markdown",
   "source": "Filter the Series to include only values greater than a specific threshold",
   "id": "2dc7802cc446db0c"
  },
  {
   "metadata": {
    "ExecuteTime": {
     "end_time": "2025-03-22T18:54:20.040417Z",
     "start_time": "2025-03-22T18:54:20.030526Z"
    }
   },
   "cell_type": "code",
   "source": [
    "filtered_series = list_series[list_series > 20]\n",
    "print(\"\\nFiltered Series (values > 20):\\n\", filtered_series)\n"
   ],
   "id": "bcac2f86640d7b52",
   "outputs": [
    {
     "name": "stdout",
     "output_type": "stream",
     "text": [
      "\n",
      "Filtered Series (values > 20):\n",
      " 2    30\n",
      "3    40\n",
      "dtype: int64\n"
     ]
    }
   ],
   "execution_count": 5
  },
  {
   "metadata": {},
   "cell_type": "markdown",
   "source": "Create a DataFrame from a dictionary of lists",
   "id": "da92102b722bb24e"
  },
  {
   "metadata": {
    "ExecuteTime": {
     "end_time": "2025-03-22T18:54:40.176972Z",
     "start_time": "2025-03-22T18:54:40.160993Z"
    }
   },
   "cell_type": "code",
   "source": [
    "data_dict = {'Name': ['Alice', 'Bob', 'Charlie'], 'Age': [25, 30, 35], 'Salary': [50000, 60000, 70000]}\n",
    "df_from_dict = pd.DataFrame(data_dict)\n",
    "print(\"\\nDataFrame from Dictionary:\\n\", df_from_dict)\n"
   ],
   "id": "24da8d7ddd30c487",
   "outputs": [
    {
     "name": "stdout",
     "output_type": "stream",
     "text": [
      "\n",
      "DataFrame from Dictionary:\n",
      "       Name  Age  Salary\n",
      "0    Alice   25   50000\n",
      "1      Bob   30   60000\n",
      "2  Charlie   35   70000\n"
     ]
    }
   ],
   "execution_count": 6
  },
  {
   "metadata": {},
   "cell_type": "markdown",
   "source": [
    "Create a DataFrame from a NumPy array, specifying column and index names\n",
    "python\n",
    "Copy code\n"
   ],
   "id": "75dba161deac3b3"
  },
  {
   "metadata": {
    "ExecuteTime": {
     "end_time": "2025-03-22T18:55:04.531981Z",
     "start_time": "2025-03-22T18:55:04.511504Z"
    }
   },
   "cell_type": "code",
   "source": [
    "array_data = np.array([[10, 20, 30], [40, 50, 60], [70, 80, 90]])\n",
    "df_from_array = pd.DataFrame(array_data, columns=['Col1', 'Col2', 'Col3'], index=['Row1', 'Row2', 'Row3'])\n",
    "print(\"\\nDataFrame from NumPy Array:\\n\", df_from_array)\n"
   ],
   "id": "41535974913a07c4",
   "outputs": [
    {
     "name": "stdout",
     "output_type": "stream",
     "text": [
      "\n",
      "DataFrame from NumPy Array:\n",
      "       Col1  Col2  Col3\n",
      "Row1    10    20    30\n",
      "Row2    40    50    60\n",
      "Row3    70    80    90\n"
     ]
    }
   ],
   "execution_count": 7
  },
  {
   "metadata": {},
   "cell_type": "markdown",
   "source": " Load a DataFrame from a CSV file",
   "id": "ea53997a6b2e7516"
  },
  {
   "metadata": {
    "ExecuteTime": {
     "end_time": "2025-03-22T18:55:31.046071Z",
     "start_time": "2025-03-22T18:55:31.039387Z"
    }
   },
   "cell_type": "code",
   "source": [
    "# Uncomment the next line if you have a CSV file named 'data.csv'\n",
    "# df_from_csv = pd.read_csv(\"data.csv\")\n",
    "# print(\"\\nDataFrame loaded from CSV:\\n\", df_from_csv)\n"
   ],
   "id": "5f4153b853a0233c",
   "outputs": [],
   "execution_count": 8
  },
  {
   "metadata": {},
   "cell_type": "markdown",
   "source": " Display the first and last five rows of the DataFrame",
   "id": "9140bce0a2878f82"
  },
  {
   "metadata": {
    "ExecuteTime": {
     "end_time": "2025-03-22T18:56:05.601369Z",
     "start_time": "2025-03-22T18:56:05.592467Z"
    }
   },
   "cell_type": "code",
   "source": [
    "print(\"\\nFirst Five Rows:\\n\", df_from_dict.head())\n",
    "print(\"\\nLast Five Rows:\\n\", df_from_dict.tail())\n"
   ],
   "id": "4b5324f8130c2f98",
   "outputs": [
    {
     "name": "stdout",
     "output_type": "stream",
     "text": [
      "\n",
      "First Five Rows:\n",
      "       Name  Age  Salary\n",
      "0    Alice   25   50000\n",
      "1      Bob   30   60000\n",
      "2  Charlie   35   70000\n",
      "\n",
      "Last Five Rows:\n",
      "       Name  Age  Salary\n",
      "0    Alice   25   50000\n",
      "1      Bob   30   60000\n",
      "2  Charlie   35   70000\n"
     ]
    }
   ],
   "execution_count": 9
  },
  {
   "metadata": {},
   "cell_type": "markdown",
   "source": "Get a summary of the DataFrame including mean, median, and standard deviation of numeric columns",
   "id": "8b53492c7bdb8a63"
  },
  {
   "metadata": {
    "ExecuteTime": {
     "end_time": "2025-03-22T18:56:24.680092Z",
     "start_time": "2025-03-22T18:56:24.659402Z"
    }
   },
   "cell_type": "code",
   "source": "print(\"\\nSummary Statistics:\\n\", df_from_dict.describe())\n",
   "id": "7f82253e38a0e764",
   "outputs": [
    {
     "name": "stdout",
     "output_type": "stream",
     "text": [
      "\n",
      "Summary Statistics:\n",
      "         Age   Salary\n",
      "count   3.0      3.0\n",
      "mean   30.0  60000.0\n",
      "std     5.0  10000.0\n",
      "min    25.0  50000.0\n",
      "25%    27.5  55000.0\n",
      "50%    30.0  60000.0\n",
      "75%    32.5  65000.0\n",
      "max    35.0  70000.0\n"
     ]
    }
   ],
   "execution_count": 10
  },
  {
   "metadata": {},
   "cell_type": "markdown",
   "source": " Extract a specific column as a Series",
   "id": "48f54bcefc3ffb42"
  },
  {
   "metadata": {
    "ExecuteTime": {
     "end_time": "2025-03-22T18:56:47.546059Z",
     "start_time": "2025-03-22T18:56:47.538034Z"
    }
   },
   "cell_type": "code",
   "source": [
    "age_series = df_from_dict['Age']\n",
    "print(\"\\nExtracted 'Age' Column:\\n\", age_series)\n"
   ],
   "id": "57324694d1e2b866",
   "outputs": [
    {
     "name": "stdout",
     "output_type": "stream",
     "text": [
      "\n",
      "Extracted 'Age' Column:\n",
      " 0    25\n",
      "1    30\n",
      "2    35\n",
      "Name: Age, dtype: int64\n"
     ]
    }
   ],
   "execution_count": 11
  },
  {
   "metadata": {},
   "cell_type": "markdown",
   "source": " Filter rows based on column values",
   "id": "b1ae7c7ee34750aa"
  },
  {
   "metadata": {
    "ExecuteTime": {
     "end_time": "2025-03-22T18:57:07.380529Z",
     "start_time": "2025-03-22T18:57:07.373037Z"
    }
   },
   "cell_type": "code",
   "source": [
    "filtered_df = df_from_dict[df_from_dict['Salary'] > 55000]\n",
    "print(\"\\nFiltered DataFrame (Salary > 55000):\\n\", filtered_df)\n"
   ],
   "id": "1f4b9eff89c3a2ef",
   "outputs": [
    {
     "name": "stdout",
     "output_type": "stream",
     "text": [
      "\n",
      "Filtered DataFrame (Salary > 55000):\n",
      "       Name  Age  Salary\n",
      "1      Bob   30   60000\n",
      "2  Charlie   35   70000\n"
     ]
    }
   ],
   "execution_count": 12
  },
  {
   "metadata": {},
   "cell_type": "markdown",
   "source": "Select rows based on multiple conditions",
   "id": "d61811b533fd84"
  },
  {
   "metadata": {
    "ExecuteTime": {
     "end_time": "2025-03-22T18:57:27.125651Z",
     "start_time": "2025-03-22T18:57:27.113454Z"
    }
   },
   "cell_type": "code",
   "source": [
    "multi_condition_df = df_from_dict[(df_from_dict['Age'] > 25) & (df_from_dict['Salary'] < 70000)]\n",
    "print(\"\\nFiltered DataFrame (Age > 25 & Salary < 70000):\\n\", multi_condition_df)\n"
   ],
   "id": "134472bb410554f8",
   "outputs": [
    {
     "name": "stdout",
     "output_type": "stream",
     "text": [
      "\n",
      "Filtered DataFrame (Age > 25 & Salary < 70000):\n",
      "   Name  Age  Salary\n",
      "1  Bob   30   60000\n"
     ]
    }
   ],
   "execution_count": 13
  },
  {
   "metadata": {},
   "cell_type": "markdown",
   "source": "Add a new column to the DataFrame",
   "id": "3860970a7b0cdd07"
  },
  {
   "metadata": {
    "ExecuteTime": {
     "end_time": "2025-03-22T18:57:49.458414Z",
     "start_time": "2025-03-22T18:57:49.447281Z"
    }
   },
   "cell_type": "code",
   "source": [
    "df_from_dict['Experience'] = [2, 5, 7]\n",
    "print(\"\\nDataFrame after Adding 'Experience' Column:\\n\", df_from_dict)\n"
   ],
   "id": "973c392d5e33d1d8",
   "outputs": [
    {
     "name": "stdout",
     "output_type": "stream",
     "text": [
      "\n",
      "DataFrame after Adding 'Experience' Column:\n",
      "       Name  Age  Salary  Experience\n",
      "0    Alice   25   50000           2\n",
      "1      Bob   30   60000           5\n",
      "2  Charlie   35   70000           7\n"
     ]
    }
   ],
   "execution_count": 14
  },
  {
   "metadata": {},
   "cell_type": "markdown",
   "source": "Delete a column from the DataFrame",
   "id": "92c313baddd82dd7"
  },
  {
   "metadata": {
    "ExecuteTime": {
     "end_time": "2025-03-22T18:58:10.750235Z",
     "start_time": "2025-03-22T18:58:10.737039Z"
    }
   },
   "cell_type": "code",
   "source": [
    "df_from_dict.drop(columns=['Experience'], inplace=True)\n",
    "print(\"\\nDataFrame after Deleting 'Experience' Column:\\n\", df_from_dict)\n"
   ],
   "id": "20633109409248ee",
   "outputs": [
    {
     "name": "stdout",
     "output_type": "stream",
     "text": [
      "\n",
      "DataFrame after Deleting 'Experience' Column:\n",
      "       Name  Age  Salary\n",
      "0    Alice   25   50000\n",
      "1      Bob   30   60000\n",
      "2  Charlie   35   70000\n"
     ]
    }
   ],
   "execution_count": 15
  },
  {
   "metadata": {},
   "cell_type": "markdown",
   "source": "Rename columns in the DataFrame",
   "id": "1a155e81727788dd"
  },
  {
   "metadata": {
    "ExecuteTime": {
     "end_time": "2025-03-22T18:58:32.556868Z",
     "start_time": "2025-03-22T18:58:32.542836Z"
    }
   },
   "cell_type": "code",
   "source": [
    "df_from_dict.rename(columns={'Name': 'Employee Name', 'Age': 'Employee Age'}, inplace=True)\n",
    "print(\"\\nRenamed DataFrame Columns:\\n\", df_from_dict)\n"
   ],
   "id": "277f7c5a3be47d4",
   "outputs": [
    {
     "name": "stdout",
     "output_type": "stream",
     "text": [
      "\n",
      "Renamed DataFrame Columns:\n",
      "   Employee Name  Employee Age  Salary\n",
      "0         Alice            25   50000\n",
      "1           Bob            30   60000\n",
      "2       Charlie            35   70000\n"
     ]
    }
   ],
   "execution_count": 16
  }
 ],
 "metadata": {
  "kernelspec": {
   "display_name": "Python 3",
   "language": "python",
   "name": "python3"
  },
  "language_info": {
   "codemirror_mode": {
    "name": "ipython",
    "version": 2
   },
   "file_extension": ".py",
   "mimetype": "text/x-python",
   "name": "python",
   "nbconvert_exporter": "python",
   "pygments_lexer": "ipython2",
   "version": "2.7.6"
  }
 },
 "nbformat": 4,
 "nbformat_minor": 5
}
